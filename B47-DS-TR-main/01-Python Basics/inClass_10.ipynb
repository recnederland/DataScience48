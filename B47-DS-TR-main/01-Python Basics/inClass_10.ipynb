{
 "cells": [
  {
   "cell_type": "code",
   "execution_count": 2,
   "metadata": {},
   "outputs": [
    {
     "name": "stdout",
     "output_type": "stream",
     "text": [
      "0\n",
      "1\n",
      "2\n",
      "3\n",
      "4\n",
      "bitti\n"
     ]
    }
   ],
   "source": [
    "n=0\n",
    "\n",
    "while n<5 :\n",
    "    print(n)\n",
    "    n+=1\n",
    "    \n",
    "print(\"bitti\")\n",
    "    \n",
    "    \n",
    "    "
   ]
  },
  {
   "cell_type": "code",
   "execution_count": 4,
   "metadata": {},
   "outputs": [
    {
     "name": "stdout",
     "output_type": "stream",
     "text": [
      "0\n",
      "1\n",
      "2\n",
      "bitti\n"
     ]
    }
   ],
   "source": [
    "n=0\n",
    "\n",
    "while n<5 :\n",
    "    print(n)\n",
    "    n+=1\n",
    "    if n==3:\n",
    "        break\n",
    "    \n",
    "print(\"bitti\")"
   ]
  },
  {
   "cell_type": "code",
   "execution_count": 5,
   "metadata": {},
   "outputs": [
    {
     "name": "stdout",
     "output_type": "stream",
     "text": [
      "4\n",
      "2\n",
      "1\n",
      "0\n",
      "bitti\n"
     ]
    }
   ],
   "source": [
    "n=5\n",
    "while n>0: \n",
    "    n-=1\n",
    "    if n==3:\n",
    "        continue\n",
    "    print(n)\n",
    "print(\"bitti\")"
   ]
  },
  {
   "cell_type": "code",
   "execution_count": 6,
   "metadata": {},
   "outputs": [],
   "source": [
    "liste = ['ali', 'hasan', 'mehmet', 'murat', 'Cemal']"
   ]
  },
  {
   "cell_type": "code",
   "execution_count": 7,
   "metadata": {},
   "outputs": [
    {
     "data": {
      "text/plain": [
       "'mehmet'"
      ]
     },
     "execution_count": 7,
     "metadata": {},
     "output_type": "execute_result"
    }
   ],
   "source": [
    "liste[0]\n",
    "liste[1]\n",
    "liste[2]"
   ]
  },
  {
   "cell_type": "code",
   "execution_count": 8,
   "metadata": {},
   "outputs": [
    {
     "name": "stdout",
     "output_type": "stream",
     "text": [
      "ALI\n",
      "HASAN\n",
      "MEHMET\n",
      "MURAT\n",
      "CEMAL\n",
      "bitti\n"
     ]
    }
   ],
   "source": [
    "n=0\n",
    "\n",
    "while n<len(liste):\n",
    "    print(liste[n].upper())\n",
    "    n+=1\n",
    "print(\"bitti\")\n"
   ]
  },
  {
   "cell_type": "code",
   "execution_count": 9,
   "metadata": {},
   "outputs": [
    {
     "name": "stdout",
     "output_type": "stream",
     "text": [
      "bulldog\n",
      "dalmation\n",
      "shihtzu\n",
      "poodle\n",
      "collie\n",
      "---\n"
     ]
    }
   ],
   "source": [
    "animals = ['bull%dog', 'dal%mation', 's%hihtzu', 'poo%dle', 'col%lie']\n",
    "i=0\n",
    "while i<len(dog_breeds):\n",
    "    print(dog_breeds[i].replace(\"%\", \"\"))\n",
    "    i+=1\n",
    "print(\"---\")\n",
    "    "
   ]
  },
  {
   "cell_type": "code",
   "execution_count": 10,
   "metadata": {},
   "outputs": [],
   "source": [
    "animals = ['bull%dog', 'dal%mation', 's%hihtzu', 'poo%dle', 'col%lie']"
   ]
  },
  {
   "cell_type": "code",
   "execution_count": 14,
   "metadata": {},
   "outputs": [
    {
     "name": "stdout",
     "output_type": "stream",
     "text": [
      "BULLDOGBULLDOGBULLDOGBULLDOGBULLDOG\n",
      "DALMATIONDALMATIONDALMATIONDALMATIONDALMATION\n",
      "SHIHTZUSHIHTZUSHIHTZUSHIHTZUSHIHTZU\n",
      "POODLEPOODLEPOODLEPOODLEPOODLE\n",
      "COLLIECOLLIECOLLIECOLLIECOLLIE\n"
     ]
    }
   ],
   "source": [
    "for animal in animals:\n",
    "    print(animal.replace(\"%\", \"\").upper()*5)"
   ]
  },
  {
   "cell_type": "code",
   "execution_count": 19,
   "metadata": {},
   "outputs": [
    {
     "name": "stdout",
     "output_type": "stream",
     "text": [
      "HHHHHHHHHH\n",
      "----\n",
      "EEEEEEEEEE\n",
      "----\n",
      "LLLLLLLLLL\n",
      "----\n",
      "LLLLLLLLLL\n",
      "----\n",
      "OOOOOOOOOO\n",
      "----\n"
     ]
    }
   ],
   "source": [
    "myString=\"hello\"\n",
    "\n",
    "for i in myString:\n",
    "    print(i.upper()*10)\n",
    "    print(\"----\")"
   ]
  },
  {
   "cell_type": "code",
   "execution_count": 20,
   "metadata": {},
   "outputs": [],
   "source": [
    "d = {\"a\": 1, \"b\": 2, \"c\": 3}"
   ]
  },
  {
   "cell_type": "code",
   "execution_count": 23,
   "metadata": {},
   "outputs": [
    {
     "data": {
      "text/plain": [
       "dict_values([1, 2, 3])"
      ]
     },
     "execution_count": 23,
     "metadata": {},
     "output_type": "execute_result"
    }
   ],
   "source": [
    "d.values()"
   ]
  },
  {
   "cell_type": "code",
   "execution_count": 27,
   "metadata": {},
   "outputs": [
    {
     "name": "stdout",
     "output_type": "stream",
     "text": [
      "a\n",
      "1\n",
      "b\n",
      "2\n",
      "c\n",
      "3\n"
     ]
    }
   ],
   "source": [
    "for i,v in d.items():\n",
    "    print(i)\n",
    "    print(v)"
   ]
  },
  {
   "cell_type": "code",
   "execution_count": 28,
   "metadata": {},
   "outputs": [],
   "source": [
    "data = [[[1,2],[1,3] ], [3, 4], [5, 6]]"
   ]
  },
  {
   "cell_type": "code",
   "execution_count": null,
   "metadata": {},
   "outputs": [],
   "source": []
  },
  {
   "cell_type": "code",
   "execution_count": 33,
   "metadata": {},
   "outputs": [],
   "source": [
    "liste=[]\n",
    "\n",
    "for i in data:\n",
    "    for j in i:\n",
    "        liste.append(j)"
   ]
  },
  {
   "cell_type": "code",
   "execution_count": 34,
   "metadata": {},
   "outputs": [
    {
     "data": {
      "text/plain": [
       "[1, 2, 3, 4, 5, 6]"
      ]
     },
     "execution_count": 34,
     "metadata": {},
     "output_type": "execute_result"
    }
   ],
   "source": [
    "liste"
   ]
  },
  {
   "cell_type": "code",
   "execution_count": 39,
   "metadata": {},
   "outputs": [],
   "source": [
    "data = [[[1,2],[1,3] ], [[1,2],[1,3]], [[1,2],[1,3]]]"
   ]
  },
  {
   "cell_type": "code",
   "execution_count": 42,
   "metadata": {},
   "outputs": [],
   "source": [
    "liste=[]\n",
    "\n",
    "for i in data:\n",
    "    for j in i:\n",
    "        for m in j:\n",
    "            liste.append(m)\n",
    "    "
   ]
  },
  {
   "cell_type": "code",
   "execution_count": 43,
   "metadata": {},
   "outputs": [
    {
     "data": {
      "text/plain": [
       "[1, 2, 1, 3, 1, 2, 1, 3, 1, 2, 1, 3]"
      ]
     },
     "execution_count": 43,
     "metadata": {},
     "output_type": "execute_result"
    }
   ],
   "source": [
    "liste"
   ]
  },
  {
   "cell_type": "code",
   "execution_count": 45,
   "metadata": {},
   "outputs": [],
   "source": [
    "sayı=1235456"
   ]
  },
  {
   "cell_type": "code",
   "execution_count": 46,
   "metadata": {},
   "outputs": [],
   "source": [
    "sayı=str(sayı)"
   ]
  },
  {
   "cell_type": "code",
   "execution_count": 47,
   "metadata": {},
   "outputs": [
    {
     "data": {
      "text/plain": [
       "'1235456'"
      ]
     },
     "execution_count": 47,
     "metadata": {},
     "output_type": "execute_result"
    }
   ],
   "source": [
    "sayı"
   ]
  },
  {
   "cell_type": "code",
   "execution_count": 49,
   "metadata": {},
   "outputs": [],
   "source": [
    "toplam=0\n",
    "for i in sayı:\n",
    "    toplam+=int(i)"
   ]
  },
  {
   "cell_type": "code",
   "execution_count": 50,
   "metadata": {},
   "outputs": [
    {
     "data": {
      "text/plain": [
       "26"
      ]
     },
     "execution_count": 50,
     "metadata": {},
     "output_type": "execute_result"
    }
   ],
   "source": [
    "toplam"
   ]
  },
  {
   "cell_type": "code",
   "execution_count": 55,
   "metadata": {},
   "outputs": [
    {
     "name": "stdout",
     "output_type": "stream",
     "text": [
      "0\n",
      "1\n",
      "2\n",
      "3\n",
      "4\n",
      "5\n",
      "6\n",
      "7\n",
      "8\n",
      "9\n"
     ]
    }
   ],
   "source": [
    "for i in range(10):\n",
    "    print(i)"
   ]
  },
  {
   "cell_type": "code",
   "execution_count": 60,
   "metadata": {},
   "outputs": [],
   "source": [
    "ciftSayılar=[cift for cift in range(100) if cift/2>10]"
   ]
  },
  {
   "cell_type": "code",
   "execution_count": null,
   "metadata": {},
   "outputs": [],
   "source": [
    "kullanıcıdan sayı alacaz\n",
    "\n",
    "topla üç hak vereceğiz\n",
    "\n"
   ]
  },
  {
   "cell_type": "code",
   "execution_count": 70,
   "metadata": {},
   "outputs": [
    {
     "name": "stdout",
     "output_type": "stream",
     "text": [
      "aklımdan bir tuttum bil bakalım kaç5\n",
      "bilemediniz, yukarı çık\n",
      "aklımdan bir tuttum bil bakalım kaç6\n",
      "bilemediniz, yukarı çık\n",
      "aklımdan bir tuttum bil bakalım kaç8\n",
      "bilemediniz, yukarı çık\n",
      "aklımdan bir tuttum bil bakalım kaç10\n",
      "tebrikler bildiniz\n"
     ]
    }
   ],
   "source": [
    "import random\n",
    "sayı=random.randint(1,10)\n",
    "hak=5\n",
    "\n",
    "\n",
    "while hak!=0:\n",
    "    tahmin=int(input(\"aklımdan bir tuttum bil bakalım kaç\"))\n",
    "    if tahmin>sayı:\n",
    "        print(\"bilemediniz,  daha aşağı\")\n",
    "        hak-=1\n",
    "    elif tahmin<sayı:\n",
    "        print(\"bilemediniz, yukarı çık\")\n",
    "        hak-=1\n",
    "    else:\n",
    "        print(\"tebrikler bildiniz\")\n",
    "        break\n",
    "        \n",
    "else:\n",
    "    print(\"üzgünüm hakkını bitti\")\n",
    "  "
   ]
  },
  {
   "cell_type": "markdown",
   "metadata": {},
   "source": [
    "yeni konu"
   ]
  },
  {
   "cell_type": "markdown",
   "metadata": {},
   "source": [
    "Fonksiyonlar"
   ]
  },
  {
   "cell_type": "code",
   "execution_count": 71,
   "metadata": {},
   "outputs": [],
   "source": [
    "def selamVer():\n",
    "    print(\"merhaba\")"
   ]
  },
  {
   "cell_type": "code",
   "execution_count": 72,
   "metadata": {},
   "outputs": [
    {
     "name": "stdout",
     "output_type": "stream",
     "text": [
      "merhaba\n"
     ]
    }
   ],
   "source": [
    "selamVer()"
   ]
  },
  {
   "cell_type": "code",
   "execution_count": 73,
   "metadata": {},
   "outputs": [],
   "source": [
    "def sayHello():\n",
    "    print(\"hello\")"
   ]
  },
  {
   "cell_type": "code",
   "execution_count": 76,
   "metadata": {},
   "outputs": [
    {
     "name": "stdout",
     "output_type": "stream",
     "text": [
      "merhaba\n",
      "hello\n",
      "merhaba\n"
     ]
    }
   ],
   "source": [
    "selamVer()\n",
    "sayHello()\n",
    "selamVer()"
   ]
  },
  {
   "cell_type": "code",
   "execution_count": null,
   "metadata": {},
   "outputs": [],
   "source": []
  },
  {
   "cell_type": "code",
   "execution_count": 77,
   "metadata": {},
   "outputs": [
    {
     "name": "stdout",
     "output_type": "stream",
     "text": [
      "merhaba\n",
      "hello\n",
      "merhaba\n",
      "hello\n",
      "merhaba\n",
      "hello\n",
      "merhaba\n",
      "hello\n",
      "merhaba\n",
      "hello\n"
     ]
    }
   ],
   "source": [
    "for i in range(1,6):\n",
    "    selamVer()\n",
    "    sayHello()"
   ]
  },
  {
   "cell_type": "code",
   "execution_count": 84,
   "metadata": {},
   "outputs": [],
   "source": [
    "def pi():\n",
    "    print(3.14)"
   ]
  },
  {
   "cell_type": "code",
   "execution_count": 85,
   "metadata": {},
   "outputs": [
    {
     "name": "stdout",
     "output_type": "stream",
     "text": [
      "3.14\n"
     ]
    }
   ],
   "source": [
    "pi()"
   ]
  },
  {
   "cell_type": "code",
   "execution_count": 88,
   "metadata": {},
   "outputs": [],
   "source": [
    "def selamVer(name):\n",
    "    print(\"merhaba \"+name)"
   ]
  },
  {
   "cell_type": "code",
   "execution_count": 89,
   "metadata": {},
   "outputs": [
    {
     "name": "stdout",
     "output_type": "stream",
     "text": [
      "merhaba Murat\n"
     ]
    }
   ],
   "source": [
    "selamVer(\"Murat\")"
   ]
  },
  {
   "cell_type": "code",
   "execution_count": 90,
   "metadata": {},
   "outputs": [
    {
     "name": "stdout",
     "output_type": "stream",
     "text": [
      "merhaba Ayşe\n"
     ]
    }
   ],
   "source": [
    "selamVer(\"Ayşe\")"
   ]
  },
  {
   "cell_type": "code",
   "execution_count": 93,
   "metadata": {},
   "outputs": [
    {
     "name": "stdout",
     "output_type": "stream",
     "text": [
      "merhaba mehmet\n"
     ]
    }
   ],
   "source": [
    "selamVer(\"mehmet\")"
   ]
  },
  {
   "cell_type": "code",
   "execution_count": 94,
   "metadata": {},
   "outputs": [
    {
     "data": {
      "text/plain": [
       "'elifelif'"
      ]
     },
     "execution_count": 94,
     "metadata": {},
     "output_type": "execute_result"
    }
   ],
   "source": []
  },
  {
   "cell_type": "code",
   "execution_count": 95,
   "metadata": {},
   "outputs": [],
   "source": [
    "def carp2(sayı):\n",
    "    sonuc=sayı*2\n",
    "    print(sonuc)\n",
    "    \n",
    "    "
   ]
  },
  {
   "cell_type": "code",
   "execution_count": 96,
   "metadata": {},
   "outputs": [
    {
     "name": "stdout",
     "output_type": "stream",
     "text": [
      "20\n"
     ]
    }
   ],
   "source": [
    "carp2(10)"
   ]
  },
  {
   "cell_type": "code",
   "execution_count": null,
   "metadata": {},
   "outputs": [],
   "source": [
    "\"mehmet\""
   ]
  },
  {
   "cell_type": "code",
   "execution_count": 98,
   "metadata": {},
   "outputs": [],
   "source": [
    "def buyukHarfYap(kelime):\n",
    "    print(kelime.upper())\n",
    "    \n",
    "    "
   ]
  },
  {
   "cell_type": "code",
   "execution_count": 99,
   "metadata": {},
   "outputs": [
    {
     "name": "stdout",
     "output_type": "stream",
     "text": [
      "MERHABA\n"
     ]
    }
   ],
   "source": [
    "buyukHarfYap(\"merhaba\")"
   ]
  },
  {
   "cell_type": "code",
   "execution_count": 100,
   "metadata": {},
   "outputs": [],
   "source": [
    "def selam(isim,soyadı):\n",
    "    print(\"merhaba {} {}\".format(isim,soyadı))"
   ]
  },
  {
   "cell_type": "code",
   "execution_count": 101,
   "metadata": {},
   "outputs": [
    {
     "name": "stdout",
     "output_type": "stream",
     "text": [
      "merhaba murat akça\n"
     ]
    }
   ],
   "source": [
    "selam(\"murat\", \"akça\")"
   ]
  },
  {
   "cell_type": "code",
   "execution_count": 106,
   "metadata": {},
   "outputs": [],
   "source": [
    "def selam(listem):\n",
    "    for isim in listem:\n",
    "        print(\"merhaba \"+ isim)\n",
    "        \n",
    "    \n",
    "    "
   ]
  },
  {
   "cell_type": "code",
   "execution_count": 107,
   "metadata": {},
   "outputs": [
    {
     "name": "stdout",
     "output_type": "stream",
     "text": [
      "merhaba mehmet\n",
      "merhaba ahmet\n",
      "merhaba ayşe\n",
      "merhaba fatma\n"
     ]
    }
   ],
   "source": [
    "selam([\"mehmet\", \"ahmet\", \"ayşe\", \"fatma\"])"
   ]
  },
  {
   "cell_type": "code",
   "execution_count": 108,
   "metadata": {},
   "outputs": [
    {
     "name": "stdout",
     "output_type": "stream",
     "text": [
      "merhaba mehmet\n",
      "merhaba ahmet\n"
     ]
    }
   ],
   "source": [
    "selam([\"mehmet\", \"ahmet\"])"
   ]
  },
  {
   "cell_type": "code",
   "execution_count": 109,
   "metadata": {},
   "outputs": [],
   "source": [
    "myString=\"hello\""
   ]
  },
  {
   "cell_type": "code",
   "execution_count": 116,
   "metadata": {},
   "outputs": [],
   "source": [
    "def selam(listem):\n",
    "    \"\"\"\n",
    "    buraya fonksiyon ile \n",
    "    ilgili açıklayaıcı \n",
    "    bilgiler yazılır\n",
    "    \n",
    "    \"\"\"\n",
    "        \n",
    "    for isim in listem:\n",
    "        print(\"merhaba \"+ isim)"
   ]
  },
  {
   "cell_type": "code",
   "execution_count": 117,
   "metadata": {},
   "outputs": [
    {
     "name": "stdout",
     "output_type": "stream",
     "text": [
      "\n",
      "    buraya fonksiyon ile \n",
      "    ilgili açıklayaıcı \n",
      "    bilgiler yazılır\n",
      "    \n",
      "    \n"
     ]
    }
   ],
   "source": [
    "print(selam.__doc__)"
   ]
  },
  {
   "cell_type": "code",
   "execution_count": 113,
   "metadata": {},
   "outputs": [],
   "source": [
    "def selam(*names):\n",
    "    for name in names:\n",
    "        print(name.upper())\n",
    "        "
   ]
  },
  {
   "cell_type": "code",
   "execution_count": 114,
   "metadata": {},
   "outputs": [
    {
     "name": "stdout",
     "output_type": "stream",
     "text": [
      "AHMET\n",
      "MEHMET\n",
      "HASAN\n"
     ]
    }
   ],
   "source": [
    "selam(\"ahmet\", \"mehmet\", \"hasan\")"
   ]
  },
  {
   "cell_type": "code",
   "execution_count": 122,
   "metadata": {},
   "outputs": [],
   "source": [
    "def hepsiniTopla(*sayılar):\n",
    "    \"\"\"\n",
    "    bu fonksiyon içine girilen sayıları toplar\n",
    "       \n",
    "    \"\"\"\n",
    "    \n",
    "    \n",
    "    toplam=0\n",
    "    for sayı in sayılar:\n",
    "        toplam+=sayı\n",
    "    print(toplam)\n",
    "    "
   ]
  },
  {
   "cell_type": "code",
   "execution_count": 119,
   "metadata": {},
   "outputs": [
    {
     "name": "stdout",
     "output_type": "stream",
     "text": [
      "34\n"
     ]
    }
   ],
   "source": [
    "hepsiniTopla(2,5,8,9,10)"
   ]
  },
  {
   "cell_type": "code",
   "execution_count": 120,
   "metadata": {},
   "outputs": [
    {
     "name": "stdout",
     "output_type": "stream",
     "text": [
      "7\n"
     ]
    }
   ],
   "source": [
    "hepsiniTopla(2,5)"
   ]
  },
  {
   "cell_type": "code",
   "execution_count": 121,
   "metadata": {},
   "outputs": [
    {
     "name": "stdout",
     "output_type": "stream",
     "text": [
      "68\n"
     ]
    }
   ],
   "source": [
    "hepsiniTopla(2,5,8,9,10,2,5,8,9,10)"
   ]
  },
  {
   "cell_type": "code",
   "execution_count": 124,
   "metadata": {},
   "outputs": [
    {
     "name": "stdout",
     "output_type": "stream",
     "text": [
      "\n",
      "    bu fonksiyon içine girilen sayıları toplar\n",
      "       \n",
      "    \n"
     ]
    }
   ],
   "source": [
    "print(hepsiniTopla.__doc__)"
   ]
  },
  {
   "cell_type": "code",
   "execution_count": 126,
   "metadata": {},
   "outputs": [],
   "source": [
    "def selam(isim, selammetni=\"merhaba\"):\n",
    "    \n",
    "    print(selammetni+\"  \"+isim)"
   ]
  },
  {
   "cell_type": "code",
   "execution_count": 133,
   "metadata": {},
   "outputs": [
    {
     "name": "stdout",
     "output_type": "stream",
     "text": [
      "merhaba  murat\n"
     ]
    }
   ],
   "source": [
    "selam(\"murat\")"
   ]
  },
  {
   "cell_type": "code",
   "execution_count": 139,
   "metadata": {},
   "outputs": [],
   "source": [
    "def merhaba(isim, soyadı):\n",
    "    print(\"hello {} {}\".format(isim, soyadı))\n",
    "    \n",
    "    \n",
    "    \n",
    "    \n",
    "    "
   ]
  },
  {
   "cell_type": "code",
   "execution_count": 140,
   "metadata": {},
   "outputs": [
    {
     "name": "stdout",
     "output_type": "stream",
     "text": [
      "hello murat akça\n"
     ]
    }
   ],
   "source": [
    "merhaba(soyadı=\"akça\", isim=\"murat\")"
   ]
  },
  {
   "cell_type": "code",
   "execution_count": 141,
   "metadata": {},
   "outputs": [],
   "source": [
    "def merhaba(**listem):\n",
    "    print(listem)"
   ]
  },
  {
   "cell_type": "code",
   "execution_count": 143,
   "metadata": {},
   "outputs": [
    {
     "name": "stdout",
     "output_type": "stream",
     "text": [
      "{'soyadı': 'akça', 'isim': 'murat', 'age': '10', 'sehir': 'istanbul'}\n"
     ]
    }
   ],
   "source": [
    "merhaba(soyadı=\"akça\", isim=\"murat\", age=\"10\", sehir=\"istanbul\")"
   ]
  },
  {
   "cell_type": "code",
   "execution_count": 144,
   "metadata": {},
   "outputs": [],
   "source": [
    "def merhaba(**listem):\n",
    "    print(listem[\"age\"])"
   ]
  },
  {
   "cell_type": "code",
   "execution_count": 145,
   "metadata": {},
   "outputs": [
    {
     "name": "stdout",
     "output_type": "stream",
     "text": [
      "10\n"
     ]
    }
   ],
   "source": [
    "merhaba(soyadı=\"akça\", isim=\"murat\", age=\"10\", sehir=\"istanbul\")"
   ]
  },
  {
   "cell_type": "code",
   "execution_count": 146,
   "metadata": {},
   "outputs": [],
   "source": [
    "def merhaba(**listem):\n",
    "    print(listem[\"age\"], listem[\"sehir\"])"
   ]
  },
  {
   "cell_type": "code",
   "execution_count": 147,
   "metadata": {},
   "outputs": [
    {
     "name": "stdout",
     "output_type": "stream",
     "text": [
      "10 istanbul\n"
     ]
    }
   ],
   "source": [
    "merhaba(soyadı=\"akça\", isim=\"murat\", age=\"10\", sehir=\"istanbul\")"
   ]
  },
  {
   "cell_type": "code",
   "execution_count": 154,
   "metadata": {},
   "outputs": [],
   "source": [
    "def merhaba1(*listem):\n",
    "    for i in listem:\n",
    "        print(i)"
   ]
  },
  {
   "cell_type": "code",
   "execution_count": 152,
   "metadata": {},
   "outputs": [],
   "source": [
    "def merhaba2(**listem):\n",
    "    print(listem[\"age\"])"
   ]
  },
  {
   "cell_type": "code",
   "execution_count": 156,
   "metadata": {},
   "outputs": [
    {
     "name": "stdout",
     "output_type": "stream",
     "text": [
      "ali\n",
      "veli\n",
      "ayşe\n",
      "fatma\n"
     ]
    }
   ],
   "source": [
    "merhaba1(\"ali\", \"veli\", \"ayşe\",\"fatma\")"
   ]
  },
  {
   "cell_type": "code",
   "execution_count": 153,
   "metadata": {},
   "outputs": [
    {
     "name": "stdout",
     "output_type": "stream",
     "text": [
      "10\n"
     ]
    }
   ],
   "source": [
    "merhaba2(soyadı=\"akça\", isim=\"murat\", age=\"10\", sehir=\"istanbul\")"
   ]
  },
  {
   "cell_type": "markdown",
   "metadata": {},
   "source": [
    "append'e benzer bir fonksiyon. arguman olarak girilen ifadeyi listeye ekleyen bir fonksyon"
   ]
  },
  {
   "cell_type": "code",
   "execution_count": 157,
   "metadata": {},
   "outputs": [],
   "source": [
    "def append(eleman, listem=[]):\n",
    "    listem.append(eleman)\n",
    "    return listem"
   ]
  },
  {
   "cell_type": "code",
   "execution_count": 158,
   "metadata": {},
   "outputs": [
    {
     "data": {
      "text/plain": [
       "['merhaba']"
      ]
     },
     "execution_count": 158,
     "metadata": {},
     "output_type": "execute_result"
    }
   ],
   "source": [
    "append(\"merhaba\")"
   ]
  },
  {
   "cell_type": "code",
   "execution_count": 159,
   "metadata": {},
   "outputs": [
    {
     "data": {
      "text/plain": [
       "['merhaba', 'nasılsın']"
      ]
     },
     "execution_count": 159,
     "metadata": {},
     "output_type": "execute_result"
    }
   ],
   "source": [
    "append(\"nasılsın\")"
   ]
  },
  {
   "cell_type": "code",
   "execution_count": 160,
   "metadata": {},
   "outputs": [
    {
     "data": {
      "text/plain": [
       "['merhaba', 'nasılsın', 5]"
      ]
     },
     "execution_count": 160,
     "metadata": {},
     "output_type": "execute_result"
    }
   ],
   "source": [
    "append(5)"
   ]
  },
  {
   "cell_type": "code",
   "execution_count": 161,
   "metadata": {},
   "outputs": [
    {
     "data": {
      "text/plain": [
       "['merhaba', 'nasılsın', 5, [1, 5, 6]]"
      ]
     },
     "execution_count": 161,
     "metadata": {},
     "output_type": "execute_result"
    }
   ],
   "source": [
    "append([1,5,6])"
   ]
  },
  {
   "cell_type": "code",
   "execution_count": 162,
   "metadata": {},
   "outputs": [
    {
     "name": "stdout",
     "output_type": "stream",
     "text": [
      "['merhaba', 'nasılsın', 5, [1, 5, 6], 'merhaba']\n"
     ]
    }
   ],
   "source": [
    "print(append(\"merhab\"))"
   ]
  },
  {
   "cell_type": "code",
   "execution_count": null,
   "metadata": {},
   "outputs": [],
   "source": [
    "def append(eleman, listem=[]):\n",
    "    listem.append(eleman)\n",
    "    return listem"
   ]
  },
  {
   "cell_type": "code",
   "execution_count": 163,
   "metadata": {},
   "outputs": [],
   "source": [
    "listem=[5, 6, 7, 'name']"
   ]
  },
  {
   "cell_type": "code",
   "execution_count": 165,
   "metadata": {},
   "outputs": [],
   "source": [
    "liste=[(5, 6, 7, 'name')]"
   ]
  },
  {
   "cell_type": "code",
   "execution_count": 166,
   "metadata": {},
   "outputs": [
    {
     "data": {
      "text/plain": [
       "(5, 6, 7, 'name')"
      ]
     },
     "execution_count": 166,
     "metadata": {},
     "output_type": "execute_result"
    }
   ],
   "source": [
    "liste[0]"
   ]
  },
  {
   "cell_type": "code",
   "execution_count": null,
   "metadata": {},
   "outputs": [],
   "source": []
  },
  {
   "cell_type": "code",
   "execution_count": 167,
   "metadata": {},
   "outputs": [],
   "source": [
    "def yeniAppend(*elemanlar, listem=[]):\n",
    "    for eleman in elemanlar:\n",
    "        listem.append(eleman)\n",
    "    return listem\n",
    "    \n",
    "    "
   ]
  },
  {
   "cell_type": "code",
   "execution_count": 168,
   "metadata": {},
   "outputs": [
    {
     "data": {
      "text/plain": [
       "['merhaba', 'strq1', 'str2', 1, 5, [2, 4, 6]]"
      ]
     },
     "execution_count": 168,
     "metadata": {},
     "output_type": "execute_result"
    }
   ],
   "source": [
    "yeniAppend(\"merhaba\", \"strq1\", \"str2\", 1, 5, [2,4,6])"
   ]
  },
  {
   "cell_type": "code",
   "execution_count": 169,
   "metadata": {},
   "outputs": [],
   "source": [
    "def kareAl(sayı):\n",
    "    print(sayı*sayı)"
   ]
  },
  {
   "cell_type": "code",
   "execution_count": 172,
   "metadata": {},
   "outputs": [
    {
     "name": "stdout",
     "output_type": "stream",
     "text": [
      "9\n"
     ]
    }
   ],
   "source": [
    "kareAl(3)"
   ]
  },
  {
   "cell_type": "code",
   "execution_count": 173,
   "metadata": {},
   "outputs": [],
   "source": [
    "kare=lambda sayı: sayı*sayı"
   ]
  },
  {
   "cell_type": "code",
   "execution_count": 174,
   "metadata": {},
   "outputs": [
    {
     "data": {
      "text/plain": [
       "100"
      ]
     },
     "execution_count": 174,
     "metadata": {},
     "output_type": "execute_result"
    }
   ],
   "source": [
    "kare(10)"
   ]
  },
  {
   "cell_type": "code",
   "execution_count": 175,
   "metadata": {},
   "outputs": [],
   "source": [
    "selamla=lambda : print(\"merhaba\")"
   ]
  },
  {
   "cell_type": "code",
   "execution_count": 176,
   "metadata": {},
   "outputs": [
    {
     "name": "stdout",
     "output_type": "stream",
     "text": [
      "merhaba\n"
     ]
    }
   ],
   "source": [
    "selamla()"
   ]
  },
  {
   "cell_type": "code",
   "execution_count": 179,
   "metadata": {},
   "outputs": [],
   "source": [
    "selamla=lambda name : print(\"merhaba \" + name)"
   ]
  },
  {
   "cell_type": "code",
   "execution_count": 180,
   "metadata": {},
   "outputs": [
    {
     "name": "stdout",
     "output_type": "stream",
     "text": [
      "merhaba murat\n"
     ]
    }
   ],
   "source": [
    "selamla(\"murat\")"
   ]
  },
  {
   "cell_type": "code",
   "execution_count": 181,
   "metadata": {},
   "outputs": [],
   "source": [
    "def hepsiniCarp(*sayılar):\n",
    "    carpım=1\n",
    "    for i in sayılar:\n",
    "        carpım*=i\n",
    "    return carpım\n",
    "    "
   ]
  },
  {
   "cell_type": "code",
   "execution_count": 182,
   "metadata": {},
   "outputs": [
    {
     "data": {
      "text/plain": [
       "18000"
      ]
     },
     "execution_count": 182,
     "metadata": {},
     "output_type": "execute_result"
    }
   ],
   "source": [
    "hepsiniCarp(1,5,8,9,50)"
   ]
  },
  {
   "cell_type": "code",
   "execution_count": null,
   "metadata": {},
   "outputs": [],
   "source": []
  }
 ],
 "metadata": {
  "kernelspec": {
   "display_name": "Python 3",
   "language": "python",
   "name": "python3"
  },
  "language_info": {
   "codemirror_mode": {
    "name": "ipython",
    "version": 3
   },
   "file_extension": ".py",
   "mimetype": "text/x-python",
   "name": "python",
   "nbconvert_exporter": "python",
   "pygments_lexer": "ipython3",
   "version": "3.7.6"
  }
 },
 "nbformat": 4,
 "nbformat_minor": 4
}
