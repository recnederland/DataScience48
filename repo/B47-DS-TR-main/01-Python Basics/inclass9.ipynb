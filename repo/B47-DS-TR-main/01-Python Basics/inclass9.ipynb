{
 "cells": [
  {
   "cell_type": "code",
   "execution_count": 1,
   "metadata": {},
   "outputs": [
    {
     "data": {
      "text/plain": [
       "True"
      ]
     },
     "execution_count": 1,
     "metadata": {},
     "output_type": "execute_result"
    }
   ],
   "source": [
    "5<7"
   ]
  },
  {
   "cell_type": "code",
   "execution_count": 2,
   "metadata": {},
   "outputs": [
    {
     "name": "stdout",
     "output_type": "stream",
     "text": [
      "hello\n"
     ]
    }
   ],
   "source": [
    "if 5<7 :\n",
    "    print(\"hello\")\n",
    "    \n",
    "    \n",
    "    "
   ]
  },
  {
   "cell_type": "code",
   "execution_count": 3,
   "metadata": {},
   "outputs": [
    {
     "data": {
      "text/plain": [
       "True"
      ]
     },
     "execution_count": 3,
     "metadata": {},
     "output_type": "execute_result"
    }
   ],
   "source": [
    "bool(\"hello\")"
   ]
  },
  {
   "cell_type": "code",
   "execution_count": 5,
   "metadata": {},
   "outputs": [
    {
     "data": {
      "text/plain": [
       "False"
      ]
     },
     "execution_count": 5,
     "metadata": {},
     "output_type": "execute_result"
    }
   ],
   "source": [
    "bool([])"
   ]
  },
  {
   "cell_type": "code",
   "execution_count": 6,
   "metadata": {},
   "outputs": [],
   "source": [
    "myString=\"hello\""
   ]
  },
  {
   "cell_type": "code",
   "execution_count": 8,
   "metadata": {},
   "outputs": [
    {
     "name": "stdout",
     "output_type": "stream",
     "text": [
      "merhaba\n"
     ]
    }
   ],
   "source": [
    "if not myString:\n",
    "    print(\"hello\")\n",
    "    \n",
    "print(\"merhaba\")"
   ]
  },
  {
   "cell_type": "code",
   "execution_count": 11,
   "metadata": {},
   "outputs": [
    {
     "name": "stdout",
     "output_type": "stream",
     "text": [
      "hello\n"
     ]
    }
   ],
   "source": [
    "if 30<40 or 40>50:\n",
    "    print(\"hello\")"
   ]
  },
  {
   "cell_type": "code",
   "execution_count": 14,
   "metadata": {},
   "outputs": [
    {
     "name": "stdout",
     "output_type": "stream",
     "text": [
      "hava yağmurlu mu E/Hgagfahafhadfha\n",
      "keyfinee bak\n"
     ]
    }
   ],
   "source": [
    "cevap=input(\"hava yağmurlu mu E/H\").upper()\n",
    "if cevap==\"E\":\n",
    "    print(\"şemsiyeni al\")\n",
    "else:\n",
    "    print(\"keyfinee bak\")"
   ]
  },
  {
   "cell_type": "code",
   "execution_count": 15,
   "metadata": {},
   "outputs": [
    {
     "name": "stdout",
     "output_type": "stream",
     "text": [
      "küçüktür\n",
      "farklı bir şey\n"
     ]
    }
   ],
   "source": [
    "n=50\n",
    "\n",
    "if n<100:\n",
    "    print(\"küçüktür\")\n",
    "if n<70:\n",
    "    print(\"farklı bir şey\")\n",
    "    \n"
   ]
  },
  {
   "cell_type": "code",
   "execution_count": 16,
   "metadata": {},
   "outputs": [
    {
     "name": "stdout",
     "output_type": "stream",
     "text": [
      "küçüktür\n"
     ]
    }
   ],
   "source": [
    "n=50\n",
    "\n",
    "if n<100:\n",
    "    print(\"küçüktür\")\n",
    "elif n<70:\n",
    "    print(\"farklı bir şey\")"
   ]
  },
  {
   "cell_type": "code",
   "execution_count": null,
   "metadata": {},
   "outputs": [],
   "source": [
    "sayi=int(input(\"sayı giriniz\"))\n",
    "\n",
    "if sayi>0:\n",
    "    print(\"pozitif\")\n",
    "elif sayi==0:\n",
    "    print(\"sayı sıfırdır\")\n",
    "else:\n",
    "    print(\"negatif\")"
   ]
  },
  {
   "cell_type": "code",
   "execution_count": 17,
   "metadata": {},
   "outputs": [
    {
     "name": "stdout",
     "output_type": "stream",
     "text": [
      "kelime girimizmerhaba\n",
      "2\n"
     ]
    }
   ],
   "source": [
    "kelime=input(\"kelime girimiz\").lower()\n",
    "\n",
    "if \"a\" in kelime:\n",
    "    print(kelime.count(\"a\"))\n",
    "    \n",
    "else:\n",
    "    print(\"a yoktur\")"
   ]
  },
  {
   "cell_type": "code",
   "execution_count": null,
   "metadata": {},
   "outputs": [],
   "source": [
    "girilen üç kenardan bir üçgen çizilip çizilemeyeceiniz söylen bir kod yazınız"
   ]
  },
  {
   "cell_type": "code",
   "execution_count": 18,
   "metadata": {},
   "outputs": [
    {
     "name": "stdout",
     "output_type": "stream",
     "text": [
      "kena113\n",
      "kena125\n",
      "kena1310\n",
      "değildir\n"
     ]
    }
   ],
   "source": [
    "a=int(input(\"kena11\"))\n",
    "b=int(input(\"kena12\"))\n",
    "c=int(input(\"kena13\"))\n",
    "\n",
    "\n",
    "if a+b>c and a+c>b and b+c>a:\n",
    "    print(\"üçgendir\")\n",
    "else:\n",
    "    print(\"değildir\")\n",
    "    \n",
    "    \n"
   ]
  },
  {
   "cell_type": "code",
   "execution_count": null,
   "metadata": {},
   "outputs": [],
   "source": [
    "girilen değerin sayı olup olmadığını sorgulayan sayı ise son rakamımı ekrana basan bir program yazınız"
   ]
  },
  {
   "cell_type": "code",
   "execution_count": 22,
   "metadata": {},
   "outputs": [
    {
     "name": "stdout",
     "output_type": "stream",
     "text": [
      "bir sayı giriniz258\n",
      "8\n"
     ]
    }
   ],
   "source": [
    "sayi=input(\"bir sayı giriniz\")\n",
    "\n",
    "if not sayi.isdigit():\n",
    "    print(\"bir sayı giriniz\")\n",
    "else:\n",
    "    print(int(sayi)%10)\n",
    "    \n",
    "\n"
   ]
  },
  {
   "cell_type": "code",
   "execution_count": 1,
   "metadata": {},
   "outputs": [
    {
     "name": "stdout",
     "output_type": "stream",
     "text": [
      "bir sayı giriniz75\n",
      "bölünmez\n"
     ]
    }
   ],
   "source": [
    "sayi=input(\"bir sayı giriniz\")\n",
    "sonsayı=int(sayi[-1])\n",
    "\n",
    "if not sonsayı/3==0:\n",
    "    print(\"bölünmez\")\n",
    "else:\n",
    "    print(\"bolünür\")\n",
    "    \n"
   ]
  },
  {
   "cell_type": "markdown",
   "metadata": {},
   "source": [
    "YENİ KONU "
   ]
  },
  {
   "cell_type": "markdown",
   "metadata": {},
   "source": [
    "While loops"
   ]
  },
  {
   "cell_type": "code",
   "execution_count": 6,
   "metadata": {},
   "outputs": [
    {
     "ename": "IndentationError",
     "evalue": "unexpected indent (<ipython-input-6-5bb0b9a5a809>, line 5)",
     "output_type": "error",
     "traceback": [
      "\u001b[1;36m  File \u001b[1;32m\"<ipython-input-6-5bb0b9a5a809>\"\u001b[1;36m, line \u001b[1;32m5\u001b[0m\n\u001b[1;33m    print(\"bitti\")\u001b[0m\n\u001b[1;37m    ^\u001b[0m\n\u001b[1;31mIndentationError\u001b[0m\u001b[1;31m:\u001b[0m unexpected indent\n"
     ]
    }
   ],
   "source": [
    "n=5\n",
    "while n>0: # 0>0 false döndüğünde döngü sona erer.\n",
    "    print(n)\n",
    "    n-=1\n",
    "print(\"bitti\")\n"
   ]
  },
  {
   "cell_type": "code",
   "execution_count": 7,
   "metadata": {},
   "outputs": [
    {
     "name": "stdout",
     "output_type": "stream",
     "text": [
      "5\n",
      "4\n",
      "bitti\n"
     ]
    }
   ],
   "source": [
    "n=5\n",
    "while n>0: \n",
    "    print(n)\n",
    "    n-=1\n",
    "    if n==3:\n",
    "        break\n",
    "print(\"bitti\")"
   ]
  },
  {
   "cell_type": "code",
   "execution_count": 9,
   "metadata": {},
   "outputs": [
    {
     "name": "stdout",
     "output_type": "stream",
     "text": [
      "4\n",
      "2\n",
      "1\n",
      "0\n",
      "bitti\n"
     ]
    }
   ],
   "source": [
    "n=5\n",
    "while n>0: \n",
    "    n-=1\n",
    "    if n==3:\n",
    "        continue\n",
    "    print(n)\n",
    "print(\"bitti\")"
   ]
  },
  {
   "cell_type": "code",
   "execution_count": 11,
   "metadata": {},
   "outputs": [],
   "source": [
    "liste = ['ali', 'hasan', 'mehmet', 'murat', 'Cemal']"
   ]
  },
  {
   "cell_type": "code",
   "execution_count": 15,
   "metadata": {},
   "outputs": [
    {
     "data": {
      "text/plain": [
       "'ali'"
      ]
     },
     "execution_count": 15,
     "metadata": {},
     "output_type": "execute_result"
    }
   ],
   "source": [
    "liste[0]"
   ]
  },
  {
   "cell_type": "code",
   "execution_count": 16,
   "metadata": {},
   "outputs": [
    {
     "name": "stdout",
     "output_type": "stream",
     "text": [
      "ALI\n",
      "HASAN\n",
      "MEHMET\n",
      "MURAT\n",
      "CEMAL\n",
      "bitti\n"
     ]
    }
   ],
   "source": [
    "\n",
    "\n",
    "index=0\n",
    "\n",
    "while index<len(liste):\n",
    "    print(liste[index].upper())\n",
    "    index+=1\n",
    "print(\"bitti\")\n"
   ]
  },
  {
   "cell_type": "code",
   "execution_count": 18,
   "metadata": {},
   "outputs": [
    {
     "name": "stdout",
     "output_type": "stream",
     "text": [
      "ALI\n",
      "HASAN\n",
      "MEHMET\n",
      "MURAT\n",
      "CEMAL\n",
      "bitti\n"
     ]
    }
   ],
   "source": [
    "import time\n",
    "\n",
    "index=0\n",
    "\n",
    "while index<len(liste):\n",
    "    print(liste[index].upper())\n",
    "    time.sleep(1)\n",
    "    index+=1\n",
    "print(\"bitti\")"
   ]
  },
  {
   "cell_type": "code",
   "execution_count": 22,
   "metadata": {},
   "outputs": [],
   "source": [
    "animals = ['bulldog', 'dalmation', 'shihtzu', 'poodle', 'collie', \"dog\", \"cat\"]"
   ]
  },
  {
   "cell_type": "code",
   "execution_count": 23,
   "metadata": {},
   "outputs": [
    {
     "data": {
      "text/plain": [
       "7"
      ]
     },
     "execution_count": 23,
     "metadata": {},
     "output_type": "execute_result"
    }
   ],
   "source": [
    "len(animals)"
   ]
  },
  {
   "cell_type": "code",
   "execution_count": 25,
   "metadata": {},
   "outputs": [
    {
     "name": "stdout",
     "output_type": "stream",
     "text": [
      "Bulldog\n",
      "Dalmation\n",
      "Shihtzu\n",
      "Poodle\n",
      "Collie\n",
      "Dog\n",
      "Cat\n",
      "bitti\n"
     ]
    }
   ],
   "source": [
    "i=0\n",
    "while i<len(animals):\n",
    "    print(animals[i].title())\n",
    "    i+=1\n",
    "print(\"bitti\")\n",
    "    "
   ]
  },
  {
   "cell_type": "code",
   "execution_count": 26,
   "metadata": {},
   "outputs": [],
   "source": [
    "dog_breeds = ['bull%dog', 'dal%mation', 's%hihtzu', 'poo%dle', 'col%lie']"
   ]
  },
  {
   "cell_type": "code",
   "execution_count": 27,
   "metadata": {},
   "outputs": [
    {
     "name": "stdout",
     "output_type": "stream",
     "text": [
      "bulldog\n",
      "dalmation\n",
      "shihtzu\n",
      "poodle\n",
      "collie\n",
      "-----\n"
     ]
    }
   ],
   "source": [
    "i=0\n",
    "while i<len(dog_breeds):\n",
    "    print(dog_breeds[i].replace(\"%\", \"\"))\n",
    "    i+=1\n",
    "\n",
    "print(\"-----\")\n",
    "    \n",
    "    "
   ]
  },
  {
   "cell_type": "markdown",
   "metadata": {},
   "source": [
    "FOR LOOPS"
   ]
  },
  {
   "cell_type": "code",
   "execution_count": 28,
   "metadata": {},
   "outputs": [
    {
     "name": "stdout",
     "output_type": "stream",
     "text": [
      "1\n",
      "2\n",
      "3\n",
      "4\n",
      "5\n",
      "6\n",
      "7\n",
      "8\n",
      "9\n",
      "10\n"
     ]
    }
   ],
   "source": [
    "n=1\n",
    "\n",
    "while n<=10:\n",
    "    print(n)\n",
    "    n+=1\n",
    "    \n"
   ]
  },
  {
   "cell_type": "code",
   "execution_count": 29,
   "metadata": {},
   "outputs": [
    {
     "data": {
      "text/plain": [
       "[1, 2, 3, 4, 5, 6, 7, 8, 9, 10]"
      ]
     },
     "execution_count": 29,
     "metadata": {},
     "output_type": "execute_result"
    }
   ],
   "source": [
    "list(range(1,11))"
   ]
  },
  {
   "cell_type": "code",
   "execution_count": 31,
   "metadata": {},
   "outputs": [
    {
     "name": "stdout",
     "output_type": "stream",
     "text": [
      "1\n",
      "2\n",
      "3\n",
      "4\n",
      "5\n",
      "6\n",
      "7\n",
      "8\n",
      "9\n",
      "10\n"
     ]
    }
   ],
   "source": [
    "for i in range(1,11):\n",
    "    print(i)"
   ]
  },
  {
   "cell_type": "code",
   "execution_count": 32,
   "metadata": {},
   "outputs": [
    {
     "name": "stdout",
     "output_type": "stream",
     "text": [
      "1\n",
      "2\n"
     ]
    }
   ],
   "source": [
    "for i in range(1,5):\n",
    "    if i>2:\n",
    "        break\n",
    "    print(i)"
   ]
  },
  {
   "cell_type": "code",
   "execution_count": 33,
   "metadata": {},
   "outputs": [],
   "source": [
    "friends = ['Joseph', 'Glenn', 'Sally']"
   ]
  },
  {
   "cell_type": "code",
   "execution_count": 35,
   "metadata": {},
   "outputs": [
    {
     "name": "stdout",
     "output_type": "stream",
     "text": [
      "J\n",
      "G\n",
      "S\n"
     ]
    }
   ],
   "source": [
    "for i in friends:\n",
    "    print(i[0])"
   ]
  },
  {
   "cell_type": "code",
   "execution_count": 36,
   "metadata": {},
   "outputs": [],
   "source": [
    "numbers = [1, 5, 6,8]"
   ]
  },
  {
   "cell_type": "code",
   "execution_count": 37,
   "metadata": {},
   "outputs": [
    {
     "name": "stdout",
     "output_type": "stream",
     "text": [
      "10\n",
      "50\n",
      "60\n",
      "80\n"
     ]
    }
   ],
   "source": [
    "for ahmet in numbers:\n",
    "    print(ahmet*10)"
   ]
  },
  {
   "cell_type": "code",
   "execution_count": 38,
   "metadata": {},
   "outputs": [],
   "source": [
    "myString=\"hello world\"\n"
   ]
  },
  {
   "cell_type": "code",
   "execution_count": 39,
   "metadata": {},
   "outputs": [
    {
     "name": "stdout",
     "output_type": "stream",
     "text": [
      "h\n",
      "e\n",
      "l\n",
      "l\n",
      "o\n",
      " \n",
      "w\n",
      "o\n",
      "r\n",
      "l\n",
      "d\n"
     ]
    }
   ],
   "source": [
    "for i in myString:\n",
    "    print(i)"
   ]
  },
  {
   "cell_type": "code",
   "execution_count": 40,
   "metadata": {},
   "outputs": [],
   "source": [
    "d = {\"a\": 1, \"b\": 2, \"c\": 3}"
   ]
  },
  {
   "cell_type": "code",
   "execution_count": 41,
   "metadata": {},
   "outputs": [
    {
     "name": "stdout",
     "output_type": "stream",
     "text": [
      "('a', 1)\n",
      "('b', 2)\n",
      "('c', 3)\n"
     ]
    }
   ],
   "source": [
    "for i in d.items():\n",
    "    print(i)"
   ]
  },
  {
   "cell_type": "code",
   "execution_count": 44,
   "metadata": {},
   "outputs": [
    {
     "name": "stdout",
     "output_type": "stream",
     "text": [
      "a 1\n",
      "b 2\n",
      "c 3\n"
     ]
    }
   ],
   "source": [
    "for k,v in d.items():\n",
    "    print(k,v)"
   ]
  },
  {
   "cell_type": "code",
   "execution_count": 55,
   "metadata": {},
   "outputs": [],
   "source": [
    "data = [[1, 2], [3, 4], [5, 6]]"
   ]
  },
  {
   "cell_type": "code",
   "execution_count": 57,
   "metadata": {},
   "outputs": [
    {
     "data": {
      "text/plain": [
       "[1, 2]"
      ]
     },
     "execution_count": 57,
     "metadata": {},
     "output_type": "execute_result"
    }
   ],
   "source": [
    "data[0]"
   ]
  },
  {
   "cell_type": "code",
   "execution_count": null,
   "metadata": {},
   "outputs": [],
   "source": []
  },
  {
   "cell_type": "code",
   "execution_count": 58,
   "metadata": {},
   "outputs": [],
   "source": [
    "yeni=[]"
   ]
  },
  {
   "cell_type": "code",
   "execution_count": 51,
   "metadata": {},
   "outputs": [
    {
     "name": "stdout",
     "output_type": "stream",
     "text": [
      "[1, 2, 3, 4, 5, 6]\n"
     ]
    }
   ],
   "source": [
    "for i in data:\n",
    "    for j in i:\n",
    "        yeni.append(j)\n",
    "print(yeni)\n",
    "        "
   ]
  },
  {
   "cell_type": "code",
   "execution_count": 59,
   "metadata": {},
   "outputs": [],
   "source": [
    "liste = ['bull%dog', 'dal%mation', 's%hihtzu', 'poo%dle', 'col%lie']"
   ]
  },
  {
   "cell_type": "code",
   "execution_count": 68,
   "metadata": {},
   "outputs": [
    {
     "data": {
      "text/plain": [
       "[0, 1, 2, 3, 4]"
      ]
     },
     "execution_count": 68,
     "metadata": {},
     "output_type": "execute_result"
    }
   ],
   "source": [
    "list(range(len(liste)))"
   ]
  },
  {
   "cell_type": "code",
   "execution_count": null,
   "metadata": {},
   "outputs": [],
   "source": [
    "dog_breeds = ['bull%dog', 'dal%mation', 's%hihtzu', 'poo%dle', 'col%lie']"
   ]
  },
  {
   "cell_type": "code",
   "execution_count": 72,
   "metadata": {},
   "outputs": [
    {
     "name": "stdout",
     "output_type": "stream",
     "text": [
      "0\n",
      "1\n",
      "2\n",
      "3\n",
      "4\n"
     ]
    }
   ],
   "source": [
    "for i in range(len(dog_breeds)):\n",
    "    print(i)"
   ]
  },
  {
   "cell_type": "code",
   "execution_count": 70,
   "metadata": {},
   "outputs": [
    {
     "name": "stdout",
     "output_type": "stream",
     "text": [
      "['bulldog', 'dalmation', 'shihtzu', 'poodle', 'collie']\n"
     ]
    }
   ],
   "source": [
    "for i in range(len(liste)):\n",
    "    liste[i]=liste[i].replace(\"%\",\"\")\n",
    "    \n",
    "\n",
    "print(liste)"
   ]
  },
  {
   "cell_type": "code",
   "execution_count": null,
   "metadata": {},
   "outputs": [],
   "source": [
    "nums = [5, -10, 40, 20, 0]\n",
    "listedeki pozitif ve negatif sayıları ayrı bir liste olarak ekrana basan kodu yazınız."
   ]
  },
  {
   "cell_type": "code",
   "execution_count": 73,
   "metadata": {},
   "outputs": [],
   "source": [
    "nums = [5, -10, 40, 20, 0]"
   ]
  },
  {
   "cell_type": "code",
   "execution_count": 75,
   "metadata": {},
   "outputs": [
    {
     "name": "stdout",
     "output_type": "stream",
     "text": [
      "[5, 40, 20]\n",
      "[-10]\n"
     ]
    }
   ],
   "source": [
    "nums = [5, -10, 40, 20, 0]\n",
    "\n",
    "pozitif=[]\n",
    "negatif=[]\n",
    "\n",
    "for i in nums:\n",
    "    if i<0:\n",
    "        negatif.append(i)\n",
    "    elif i>0:\n",
    "        pozitif.append(i)\n",
    "print(pozitif)\n",
    "print(negatif)\n",
    "        \n",
    "        "
   ]
  },
  {
   "cell_type": "code",
   "execution_count": 78,
   "metadata": {},
   "outputs": [],
   "source": [
    "nums = [5, 10, 40, 20, 7,11,9,8]"
   ]
  },
  {
   "cell_type": "code",
   "execution_count": 81,
   "metadata": {},
   "outputs": [
    {
     "name": "stdout",
     "output_type": "stream",
     "text": [
      "[5, 7, 11, 9]\n",
      "[]\n",
      "[10, 40, 20, 8]\n"
     ]
    }
   ],
   "source": [
    "tek=[]\n",
    "çift=[]\n",
    "sıfır=[]\n",
    "\n",
    "for i in nums:\n",
    "    if i%2==0:\n",
    "        çift.append(i)\n",
    "    elif i==0:\n",
    "        sıfır.append(0)\n",
    "    else:\n",
    "        tek.append(i)\n",
    "        \n",
    "print(tek)\n",
    "print(sıfır)\n",
    "print(çift)"
   ]
  },
  {
   "cell_type": "code",
   "execution_count": 83,
   "metadata": {},
   "outputs": [],
   "source": [
    "d = {\"a\": 1, \"b\": 2, \"c\": 3}"
   ]
  },
  {
   "cell_type": "code",
   "execution_count": 86,
   "metadata": {},
   "outputs": [
    {
     "name": "stdout",
     "output_type": "stream",
     "text": [
      "dict_items([('a', 1), ('b', 2), ('c', 3)])\n"
     ]
    }
   ],
   "source": [
    "print(d.items())"
   ]
  },
  {
   "cell_type": "code",
   "execution_count": 85,
   "metadata": {},
   "outputs": [
    {
     "name": "stdout",
     "output_type": "stream",
     "text": [
      "a\n",
      "b\n",
      "c\n"
     ]
    }
   ],
   "source": [
    "for k,v in d.items():\n",
    "    print(k)"
   ]
  },
  {
   "cell_type": "code",
   "execution_count": 88,
   "metadata": {},
   "outputs": [
    {
     "name": "stdout",
     "output_type": "stream",
     "text": [
      "1\n",
      "2\n",
      "3\n",
      "4\n",
      "5\n",
      "6\n",
      "7\n",
      "8\n",
      "9\n"
     ]
    }
   ],
   "source": [
    "for i in range(1,10):\n",
    "    print(i)"
   ]
  },
  {
   "cell_type": "code",
   "execution_count": 6,
   "metadata": {},
   "outputs": [],
   "source": [
    "a=[x for x in range(100) if x > 10]"
   ]
  },
  {
   "cell_type": "code",
   "execution_count": null,
   "metadata": {},
   "outputs": [],
   "source": [
    "[x for x in range(10) if x % 2 == 0]"
   ]
  },
  {
   "cell_type": "code",
   "execution_count": 4,
   "metadata": {},
   "outputs": [],
   "source": [
    "a=tuple((x for x in range(100) if x > 10))"
   ]
  },
  {
   "cell_type": "code",
   "execution_count": null,
   "metadata": {},
   "outputs": [],
   "source": [
    "import random\n",
    "sayı=random.randint(1,10)\n",
    "hak=3\n",
    "\n",
    "while hak!=0:\n",
    "    tahmin=int(input(\"aklımdan 1'de 10'a kadar bir sayı tuttum bil bakalım ne?\"))\n",
    "    if tahmin>sayı:\n",
    "        print(\" bilemedin.. aşağı\")\n",
    "        hak-=1\n",
    "    elif tahmin<sayı:\n",
    "        print(\"bilemedin.. yukarı\")\n",
    "        hak-=1\n",
    "    else:\n",
    "        print(\"super bildin\")\n",
    "        break\n",
    "        \n",
    "else:\n",
    "    print(\"hakkınız bitti\")"
   ]
  },
  {
   "cell_type": "code",
   "execution_count": null,
   "metadata": {},
   "outputs": [],
   "source": [
    "tokluk = False\n",
    "hamburger=1\n",
    "while tokluk!=True:\n",
    "    print(\"al bakalım sana bir hambuger, doydun mu\")\n",
    "    cevap =input()\n",
    "    if cevap==\"evet\":\n",
    "        tokluk=True\n",
    "    else:\n",
    "        print(\"biraz daha hamburger vereyim\")\n",
    "        hamburger+=1\n",
    "print(str(hamburger)+\" yemek yedin\")"
   ]
  },
  {
   "cell_type": "code",
   "execution_count": null,
   "metadata": {},
   "outputs": [],
   "source": [
    "# 1 den 100 e kadar olan sayıların toplamı\n",
    "top= 0\n",
    "for i in range(1, 100): # burada döngü değişkeni olarak i kullanılmıştır.\n",
    "    top+= i # top = top + i\n",
    "print(top)\n",
    "\n",
    "# 1 den 1000 e kadar olan sayıların toplamı\n",
    "top01 = 0\n",
    "for a in range(1000): # sıfır (0)'dan 1000 e kadar olan sayıların toplamı için\n",
    "    top01+= a\n",
    "print(top01)"
   ]
  },
  {
   "cell_type": "code",
   "execution_count": null,
   "metadata": {},
   "outputs": [],
   "source": []
  }
 ],
 "metadata": {
  "kernelspec": {
   "display_name": "Python 3",
   "language": "python",
   "name": "python3"
  },
  "language_info": {
   "codemirror_mode": {
    "name": "ipython",
    "version": 3
   },
   "file_extension": ".py",
   "mimetype": "text/x-python",
   "name": "python",
   "nbconvert_exporter": "python",
   "pygments_lexer": "ipython3",
   "version": "3.7.6"
  }
 },
 "nbformat": 4,
 "nbformat_minor": 4
}
